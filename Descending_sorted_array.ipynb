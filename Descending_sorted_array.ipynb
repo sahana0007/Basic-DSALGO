{
  "nbformat": 4,
  "nbformat_minor": 0,
  "metadata": {
    "colab": {
      "name": "Descending sorted array.ipynb",
      "provenance": [],
      "authorship_tag": "ABX9TyOOxyuUeNENTNC6zx9/9UO4",
      "include_colab_link": true
    },
    "kernelspec": {
      "name": "python3",
      "display_name": "Python 3"
    },
    "language_info": {
      "name": "python"
    }
  },
  "cells": [
    {
      "cell_type": "markdown",
      "metadata": {
        "id": "view-in-github",
        "colab_type": "text"
      },
      "source": [
        "<a href=\"https://colab.research.google.com/github/sahana0007/Basic-DSALGO/blob/main/Descending_sorted_array.ipynb\" target=\"_parent\"><img src=\"https://colab.research.google.com/assets/colab-badge.svg\" alt=\"Open In Colab\"/></a>"
      ]
    },
    {
      "cell_type": "code",
      "execution_count": 4,
      "metadata": {
        "colab": {
          "base_uri": "https://localhost:8080/"
        },
        "id": "_T0a0vF6jKtY",
        "outputId": "e9d04a1a-100a-429f-beb3-09919565bb8c"
      },
      "outputs": [
        {
          "output_type": "stream",
          "name": "stdout",
          "text": [
            "Element is present at index 3\n"
          ]
        }
      ],
      "source": [
        "def des_sorted_array(nums, start, end, target):\n",
        "  while(start<=end):\n",
        "    mid = start + (end -start)//2\n",
        "    if (nums[mid] ==x):\n",
        "      return mid\n",
        "    elif(nums[mid]<= target):\n",
        "      end = mid -1\n",
        "    elif(nums[mid]>=target):\n",
        "      start = mid +1\n",
        "  return -1\n",
        "\n",
        "# Test array\n",
        "arr = [ 40,15,17,10,9 ]\n",
        "x = 10\n",
        "\n",
        "# Function call\n",
        "result = des_sorted_array(arr, 0, len(arr)-1, x)\n",
        "\n",
        "if result != -1:\n",
        "\tprint(\"Element is present at index\", str(result))\n",
        "else:\n",
        "\tprint(\"Element is not present in array\")\n"
      ]
    }
  ]
}