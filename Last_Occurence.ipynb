{
  "nbformat": 4,
  "nbformat_minor": 0,
  "metadata": {
    "colab": {
      "name": "Last Occurence.ipynb",
      "provenance": [],
      "authorship_tag": "ABX9TyMcGtU+VROaCfh0y8GSJeDg",
      "include_colab_link": true
    },
    "kernelspec": {
      "name": "python3",
      "display_name": "Python 3"
    },
    "language_info": {
      "name": "python"
    }
  },
  "cells": [
    {
      "cell_type": "markdown",
      "metadata": {
        "id": "view-in-github",
        "colab_type": "text"
      },
      "source": [
        "<a href=\"https://colab.research.google.com/github/sahana0007/Basic-DSALGO/blob/main/Last_Occurence.ipynb\" target=\"_parent\"><img src=\"https://colab.research.google.com/assets/colab-badge.svg\" alt=\"Open In Colab\"/></a>"
      ]
    },
    {
      "cell_type": "code",
      "execution_count": 4,
      "metadata": {
        "colab": {
          "base_uri": "https://localhost:8080/"
        },
        "id": "5fpTKgQaf1ZR",
        "outputId": "f4e67b37-ef70-469b-85ab-7ab754e7cc73"
      },
      "outputs": [
        {
          "output_type": "stream",
          "name": "stdout",
          "text": [
            "The first occurrence of element 5 is located at index 3\n"
          ]
        }
      ],
      "source": [
        "def last_occurance_bs(nums, start, end, target):\n",
        "  start , end = 0, len(nums) -1\n",
        "  result = -1\n",
        "  while(start<=end):\n",
        "    mid = start + (end-start)//2\n",
        "    if(nums[mid]==target):\n",
        "      result = mid\n",
        "      start = mid +1    \n",
        "    elif(nums[mid]>=target):\n",
        "      end =mid -1\n",
        "    else:\n",
        "      start = mid +1\n",
        "    # return the leftmost index, or -1 if the element is not found\n",
        "  return result\n",
        "\n",
        "  # Test array\n",
        "\n",
        "if __name__ == '__main__':\n",
        " \n",
        "    nums = [2, 5, 5, 5, 6, 6, 8, 9, 9, 9]\n",
        "    target = 5\n",
        " \n",
        "    index = last_occurance_bs(nums, 0, len(nums)-1, target)\n",
        " \n",
        "    if index != -1:\n",
        "        print(f'The first occurrence of element {target} is located at index {index}')\n",
        "    else:\n",
        "        print('Element found not in the list')\n"
      ]
    }
  ]
}