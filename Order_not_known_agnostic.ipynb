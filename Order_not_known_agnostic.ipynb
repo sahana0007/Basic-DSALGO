{
  "nbformat": 4,
  "nbformat_minor": 0,
  "metadata": {
    "colab": {
      "name": "Order not known_agnostic.ipynb",
      "provenance": [],
      "authorship_tag": "ABX9TyMtY+1cRXw9sFyLheyxE5TO",
      "include_colab_link": true
    },
    "kernelspec": {
      "name": "python3",
      "display_name": "Python 3"
    },
    "language_info": {
      "name": "python"
    }
  },
  "cells": [
    {
      "cell_type": "markdown",
      "metadata": {
        "id": "view-in-github",
        "colab_type": "text"
      },
      "source": [
        "<a href=\"https://colab.research.google.com/github/sahana0007/Basic-DSALGO/blob/main/Order_not_known_agnostic.ipynb\" target=\"_parent\"><img src=\"https://colab.research.google.com/assets/colab-badge.svg\" alt=\"Open In Colab\"/></a>"
      ]
    },
    {
      "cell_type": "code",
      "execution_count": 6,
      "metadata": {
        "colab": {
          "base_uri": "https://localhost:8080/"
        },
        "id": "6QQtVWdqnQ4W",
        "outputId": "544f17dc-0c35-4e2b-f9b1-8b3dbaa5d869"
      },
      "outputs": [
        {
          "output_type": "stream",
          "name": "stdout",
          "text": [
            "Element is present at index 1\n"
          ]
        }
      ],
      "source": [
        "def agnostic_orderNotKnown(nums, start, end, target):\n",
        "  start, end = 0, len(nums) -1\n",
        "#check order of nums\n",
        "  ifAscending = nums[start] <=nums[end]\n",
        "  while(start<= end):\n",
        "    mid = start + (end-start)//2\n",
        "    if nums[mid] == target:\n",
        "      return mid\n",
        "      #ascending order\n",
        "    if(ifAscending ==True):\n",
        "      #implement binary search\n",
        "      if(nums[mid]>=target):\n",
        "        end = mid -1\n",
        "      else:\n",
        "        start = mid +1\n",
        "    else:\n",
        "      if(nums[mid]>target):\n",
        "        start = mid+1\n",
        "      else:\n",
        "        end = mid -1\n",
        "  return -1\n",
        "\n",
        "# Test array\n",
        "nums = [ 40, 10, 5, 2, 1 ]\n",
        "target = 10\n",
        "\n",
        "# Function call\n",
        "result = agnostic_orderNotKnown(nums, 0, len(nums)-1, target)\n",
        "\n",
        "if result != -1:\n",
        "\tprint(\"Element is present at index\", str(result))\n",
        "else:\n",
        "\tprint(\"Element is not present in array\")\n"
      ]
    }
  ]
}